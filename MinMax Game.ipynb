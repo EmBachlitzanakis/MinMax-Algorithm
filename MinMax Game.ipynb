{
 "cells": [
  {
   "cell_type": "markdown",
   "id": "e6d7526d",
   "metadata": {},
   "source": [
    "# MinMax Game"
   ]
  },
  {
   "cell_type": "markdown",
   "id": "3a805588",
   "metadata": {},
   "source": [
    "### Game Rules \n",
    "- There are 15 balls in total: 5 blue, 5 red, and 5 green.\n",
    "- It is a turn-based game where each player (or the machine) can choose to remove either 1 or 3 balls of a specific color on their turn.\n",
    "- The objective is to strategize and force your opponent into a situation where they have no available moves, thereby winning the game.\n",
    "- The player who is left without any options to remove balls loses the game."
   ]
  },
  {
   "cell_type": "code",
   "execution_count": 1,
   "id": "b1601899",
   "metadata": {},
   "outputs": [],
   "source": [
    "M = 5\n",
    "k1, k2, k3 = 3, 3, 3"
   ]
  },
  {
   "cell_type": "code",
   "execution_count": 2,
   "id": "537145c2",
   "metadata": {},
   "outputs": [],
   "source": [
    "class Node:\n",
    "    def __init__(self, kk, pr, kt):\n",
    "        self.kk = kk\n",
    "        self.pr = pr\n",
    "        self.kt = kt\n",
    "        self.children = []\n",
    "        self.next_move = None"
   ]
  },
  {
   "cell_type": "code",
   "execution_count": 3,
   "id": "e8660227",
   "metadata": {},
   "outputs": [],
   "source": [
    " def terminal(node):\n",
    "    if node.kk <= 0 and node.pr <= 0 and node.kt <= 0:\n",
    "        return True\n",
    "\n",
    "   "
   ]
  },
  {
   "cell_type": "code",
   "execution_count": 4,
   "id": "da37bc20",
   "metadata": {},
   "outputs": [],
   "source": [
    "def minimax(node, player):\n",
    "    if terminal(node):\n",
    "        if player == 1:\n",
    "            return -1\n",
    "        else:\n",
    "            return 1\n",
    "\n",
    "    moves = [(1, 'Remove 1 red'), (2, 'Remove 1 green'), (3, 'Remove 1 blue'),\n",
    "             (4, f'Remove {k1} red'), (5, f'Remove {k2} green'), (6, f'Remove {k3} blue')]\n",
    "\n",
    "    for move, description in moves:\n",
    "        \n",
    "        if move == 1 and node.kk > 0:\n",
    "            child = Node(node.kk - move, node.pr, node.kt)\n",
    "        elif move == 2 and node.pr > 0:\n",
    "            child = Node(node.kk, node.pr - move, node.kt)\n",
    "        elif move == 3 and node.kt > 0:\n",
    "            child = Node(node.kk, node.pr, node.kt - move)\n",
    "        elif node.kk >= move == k1:\n",
    "            child = Node(node.kk - move, node.pr, node.kt)\n",
    "        elif node.pr >= move == k2:\n",
    "            child = Node(node.kk, node.pr - move, node.kt)\n",
    "        elif node.kt >= move == k3:\n",
    "            child = Node(node.kk, node.pr, node.kt - move)\n",
    "        else:\n",
    "            continue\n",
    "\n",
    "        node.children.append(child)\n",
    "        child_value = minimax(child, -player)\n",
    "\n",
    "        if player == 1:\n",
    "            if node.next_move is None or child_value > node.next_move:\n",
    "                node.next_move = child_value\n",
    "                node.topothesia = child\n",
    "                \n",
    "        else:\n",
    "            if node.next_move is None or child_value < node.next_move:\n",
    "                node.next_move = child_value\n",
    "                node.topothesia = child\n",
    "                \n",
    "    \n",
    "\n",
    "    return node.next_move"
   ]
  },
  {
   "cell_type": "code",
   "execution_count": 5,
   "id": "7bf033e2",
   "metadata": {},
   "outputs": [],
   "source": [
    "def main():\n",
    "    root = Node(M, M, M)\n",
    "    player = 1\n",
    "    print(f\"Red: {root.kk}, Green: {root.pr}, Blue: {root.kt}\")\n",
    "    while True:\n",
    "        if player == -1:\n",
    "            minimax(root, -1)\n",
    "            root = root.topothesia\n",
    "            print(f\"Red: {root.kk}, Green: {root.pr}, Blue: {root.kt}\")\n",
    "            player = 1\n",
    "        else:\n",
    "            print(\"\\nYour options:\")\n",
    "            if root.kk > 0:\n",
    "                print(\"1. Remove 1 red\")\n",
    "            if root.pr > 0:\n",
    "                print(\"2. Remove 1 green\")\n",
    "            if root.kt > 0:\n",
    "                print(\"3. Remove 1 blue\")\n",
    "            if root.kk >= k1:\n",
    "                print(f\"4. Remove {k1} red\")\n",
    "            if root.pr >= k2:\n",
    "                print(f\"5. Remove {k2} green\")\n",
    "            if root.kt >= k3:\n",
    "                print(f\"6. Remove {k3} blue\")\n",
    "\n",
    "            choice = int(input(\"Your choice: \"))\n",
    "            if choice == 1 and root.kk > 0:\n",
    "                root = Node(root.kk - 1, root.pr, root.kt)\n",
    "            elif choice == 2 and root.pr > 0:\n",
    "                root = Node(root.kk, root.pr - 1, root.kt)\n",
    "            elif choice == 3 and root.kt > 0:\n",
    "                root = Node(root.kk, root.pr, root.kt - 1)\n",
    "            elif choice == 4 and root.kk >= k1:\n",
    "                root = Node(root.kk - k1, root.pr, root.kt)\n",
    "            elif choice == 5 and root.pr >= k2:\n",
    "                root = Node(root.kk, root.pr - k2, root.kt)\n",
    "            elif choice == 6 and root.kt >= k3:\n",
    "                root = Node(root.kk, root.pr, root.kt - k3)\n",
    "            \n",
    "            player = -1\n",
    "\n",
    "\n",
    "        if terminal(root):\n",
    "            if player == -1:\n",
    "                print(\"\\nYou won!\")\n",
    "            else:\n",
    "                print(\"\\nYou lost!\")\n",
    "            break"
   ]
  },
  {
   "cell_type": "code",
   "execution_count": 6,
   "id": "67b7eb7c",
   "metadata": {},
   "outputs": [
    {
     "name": "stdout",
     "output_type": "stream",
     "text": [
      "Red: 5, Green: 5, Blue: 5\n",
      "\n",
      "Your options:\n",
      "1. Remove 1 red\n",
      "2. Remove 1 green\n",
      "3. Remove 1 blue\n",
      "4. Remove 3 red\n",
      "5. Remove 3 green\n",
      "6. Remove 3 blue\n",
      "Your choice: 2\n",
      "Red: 4, Green: 4, Blue: 5\n",
      "\n",
      "Your options:\n",
      "1. Remove 1 red\n",
      "2. Remove 1 green\n",
      "3. Remove 1 blue\n",
      "4. Remove 3 red\n",
      "5. Remove 3 green\n",
      "6. Remove 3 blue\n",
      "Your choice: 2\n",
      "Red: 3, Green: 3, Blue: 5\n",
      "\n",
      "Your options:\n",
      "1. Remove 1 red\n",
      "2. Remove 1 green\n",
      "3. Remove 1 blue\n",
      "4. Remove 3 red\n",
      "5. Remove 3 green\n",
      "6. Remove 3 blue\n",
      "Your choice: 6\n",
      "Red: 2, Green: 3, Blue: 2\n",
      "\n",
      "Your options:\n",
      "1. Remove 1 red\n",
      "2. Remove 1 green\n",
      "3. Remove 1 blue\n",
      "5. Remove 3 green\n",
      "Your choice: 5\n",
      "Red: 1, Green: 0, Blue: 2\n",
      "\n",
      "Your options:\n",
      "1. Remove 1 red\n",
      "3. Remove 1 blue\n",
      "Your choice: 3\n",
      "Red: 0, Green: 0, Blue: 1\n",
      "\n",
      "Your options:\n",
      "3. Remove 1 blue\n",
      "Your choice: 3\n",
      "\n",
      "You won!\n"
     ]
    }
   ],
   "source": [
    "if __name__ == \"__main__\":\n",
    "    main()"
   ]
  },
  {
   "cell_type": "markdown",
   "id": "17adf537",
   "metadata": {},
   "source": [
    "## MinMax Algorith Info"
   ]
  },
  {
   "cell_type": "markdown",
   "id": "85b49ba4",
   "metadata": {},
   "source": [
    "### Time Complexity"
   ]
  },
  {
   "cell_type": "markdown",
   "id": "fc945bf0",
   "metadata": {},
   "source": [
    "The time complexity of the minimax algorithm can be expressed as $O(b^d)$, where:\n",
    "\n",
    "$b$ is the average branching factor (the number of possible moves at each level)\n",
    "$d$ is the depth of the search (the number of levels the algorithm traverses)"
   ]
  },
  {
   "cell_type": "markdown",
   "id": "1e707db2",
   "metadata": {},
   "source": [
    "### Space Complexity"
   ]
  },
  {
   "cell_type": "markdown",
   "id": "d31ca348",
   "metadata": {},
   "source": [
    "The space complexity of the minimax algorithm is determined by the memory required to store the game tree and the recursive calls made during the search.\n",
    "\n",
    "In an unoptimized minimax algorithm without any pruning or memoization techniques, the space complexity is also influenced by the number of nodes in the tree. It can be expressed as O(b * d), where:\n",
    "\n",
    "b is the average branching factor (the number of possible moves at each level)\n",
    "d is the depth of the search (the number of levels the algorithm traverses)"
   ]
  },
  {
   "cell_type": "markdown",
   "id": "761232aa",
   "metadata": {},
   "source": [
    "### Game Tree Representation\n",
    "The Minimax algorithm visualizes the game as a tree structure. Each node represents a game state, and the branches from each node indicate possible moves. Let's consider a simple example of a tic-tac-toe game.\n",
    "\n",
    "### Recursion and Prediction\n",
    "Using recursion, the algorithm explores this tree. Starting from the current state, it looks ahead by forecasting possible moves for both players until reaching a certain depth or terminal states (win, lose, or draw). It assumes optimal play by both players at each step.\n",
    "\n",
    "### Evaluation and Backtracking\n",
    "At each level of the tree, the algorithm evaluates possible outcomes based on criteria like game score or utility. If it reaches the depth limit or terminal states, it assigns a value to that state. Then, it backtracks, carrying these values upwards through the tree, alternating between maximizing and minimizing players.\n",
    "\n",
    "### Choosing the Best Move\n",
    "After evaluating all possible moves within a certain depth, the algorithm selects the move that leads to the best outcome for the current player, assuming the opponent also plays optimally."
   ]
  }
 ],
 "metadata": {
  "kernelspec": {
   "display_name": "Python 3",
   "language": "python",
   "name": "python3"
  },
  "language_info": {
   "codemirror_mode": {
    "name": "ipython",
    "version": 3
   },
   "file_extension": ".py",
   "mimetype": "text/x-python",
   "name": "python",
   "nbconvert_exporter": "python",
   "pygments_lexer": "ipython3",
   "version": "3.7.4"
  }
 },
 "nbformat": 4,
 "nbformat_minor": 5
}
